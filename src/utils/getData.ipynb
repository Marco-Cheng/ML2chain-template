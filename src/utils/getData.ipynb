{
 "cells": [
  {
   "cell_type": "code",
   "execution_count": 27,
   "metadata": {},
   "outputs": [],
   "source": [
    "from web3 import Web3, AsyncWeb3, HTTPProvider\n",
    "import json\n",
    "from Crypto.Hash import keccak\n",
    "import time\n",
    "\n",
    "def keccak_256_hash(input_str):\n",
    "    keccak_hash = keccak.new(digest_bits=256)\n",
    "    keccak_hash.update(input_str.encode())\n",
    "    return keccak_hash.hexdigest()\n",
    "# example\n",
    "# keccak_256_hash(\"transfer(address,uint256)\")"
   ]
  },
  {
   "cell_type": "code",
   "execution_count": 16,
   "metadata": {},
   "outputs": [],
   "source": [
    "w3 = Web3(HTTPProvider(''))\n",
    "my_address = \"\"\n",
    "private_key = \"\"\n",
    "address = Web3.to_checksum_address(my_address)"
   ]
  },
  {
   "cell_type": "code",
   "execution_count": null,
   "metadata": {},
   "outputs": [],
   "source": [
    "balance = w3.eth.get_balance(address)\n",
    "nonce = w3.eth.get_transaction_count(address)"
   ]
  },
  {
   "cell_type": "code",
   "execution_count": null,
   "metadata": {},
   "outputs": [],
   "source": [
    "# Make a single transaction\n",
    "tx = {\n",
    "    'nonce': w3.eth.get_transaction_count(address),\n",
    "    'to': address,\n",
    "    'value': w3.to_wei(0.001, 'ether'),\n",
    "    'gas': 21000,\n",
    "    'gasPrice': w3.to_wei('50', 'gwei')\n",
    "}\n",
    "signed_tx = w3.eth.account.sign_transaction(tx, private_key)\n",
    "tx_transaction = w3.eth.send_raw_transaction(signed_tx.rawTransaction)"
   ]
  },
  {
   "cell_type": "code",
   "execution_count": null,
   "metadata": {},
   "outputs": [],
   "source": [
    "receipt = w3.eth.wait_for_transaction_receipt(tx_transaction)"
   ]
  },
  {
   "cell_type": "code",
   "execution_count": 17,
   "metadata": {},
   "outputs": [],
   "source": [
    "# get a block by number\n",
    "block = w3.eth.get_block(12345)\n",
    "# get the latest block\n",
    "block = w3.eth.get_block('latest')\n",
    "# get a transaction by its hash\n",
    "transaction = w3.eth.get_transaction('0xeb7d89660746178954f8295ece884465a7a9f3947f152b25421ccab567b4ffce')\n",
    "# get a transaction's receipt\n",
    "receipt = w3.eth.get_transaction_receipt('0xeb7d89660746178954f8295ece884465a7a9f3947f152b25421ccab567b4ffce')"
   ]
  },
  {
   "cell_type": "code",
   "execution_count": 18,
   "metadata": {},
   "outputs": [],
   "source": [
    "contract_address = \"0x98cec103AE046A31420508eaBe1494E71C3EE7a3\"\n",
    "abi = json.loads('[{\"anonymous\":false,\"inputs\":[{\"indexed\":true,\"internalType\":\"address\",\"name\":\"src\",\"type\":\"address\"},{\"indexed\":true,\"internalType\":\"address\",\"name\":\"guy\",\"type\":\"address\"},{\"indexed\":false,\"internalType\":\"uint256\",\"name\":\"wad\",\"type\":\"uint256\"}],\"name\":\"Approval\",\"type\":\"event\"},{\"anonymous\":false,\"inputs\":[{\"indexed\":true,\"internalType\":\"address\",\"name\":\"dst\",\"type\":\"address\"},{\"indexed\":false,\"internalType\":\"uint256\",\"name\":\"wad\",\"type\":\"uint256\"}],\"name\":\"Deposit\",\"type\":\"event\"},{\"anonymous\":false,\"inputs\":[{\"indexed\":true,\"internalType\":\"address\",\"name\":\"src\",\"type\":\"address\"},{\"indexed\":true,\"internalType\":\"address\",\"name\":\"dst\",\"type\":\"address\"},{\"indexed\":false,\"internalType\":\"uint256\",\"name\":\"wad\",\"type\":\"uint256\"}],\"name\":\"Transfer\",\"type\":\"event\"},{\"anonymous\":false,\"inputs\":[{\"indexed\":true,\"internalType\":\"address\",\"name\":\"src\",\"type\":\"address\"},{\"indexed\":false,\"internalType\":\"uint256\",\"name\":\"wad\",\"type\":\"uint256\"}],\"name\":\"Withdrawal\",\"type\":\"event\"},{\"inputs\":[{\"internalType\":\"address\",\"name\":\"\",\"type\":\"address\"},{\"internalType\":\"address\",\"name\":\"\",\"type\":\"address\"}],\"name\":\"allowance\",\"outputs\":[{\"internalType\":\"uint256\",\"name\":\"\",\"type\":\"uint256\"}],\"stateMutability\":\"view\",\"type\":\"function\"},{\"inputs\":[{\"internalType\":\"address\",\"name\":\"guy\",\"type\":\"address\"},{\"internalType\":\"uint256\",\"name\":\"wad\",\"type\":\"uint256\"}],\"name\":\"approve\",\"outputs\":[{\"internalType\":\"bool\",\"name\":\"\",\"type\":\"bool\"}],\"stateMutability\":\"nonpayable\",\"type\":\"function\"},{\"inputs\":[{\"internalType\":\"address\",\"name\":\"\",\"type\":\"address\"}],\"name\":\"balanceOf\",\"outputs\":[{\"internalType\":\"uint256\",\"name\":\"\",\"type\":\"uint256\"}],\"stateMutability\":\"view\",\"type\":\"function\"},{\"inputs\":[],\"name\":\"decimals\",\"outputs\":[{\"internalType\":\"uint8\",\"name\":\"\",\"type\":\"uint8\"}],\"stateMutability\":\"view\",\"type\":\"function\"},{\"inputs\":[],\"name\":\"deposit\",\"outputs\":[],\"stateMutability\":\"payable\",\"type\":\"function\"},{\"inputs\":[],\"name\":\"name\",\"outputs\":[{\"internalType\":\"string\",\"name\":\"\",\"type\":\"string\"}],\"stateMutability\":\"view\",\"type\":\"function\"},{\"inputs\":[],\"name\":\"symbol\",\"outputs\":[{\"internalType\":\"string\",\"name\":\"\",\"type\":\"string\"}],\"stateMutability\":\"view\",\"type\":\"function\"},{\"inputs\":[],\"name\":\"totalSupply\",\"outputs\":[{\"internalType\":\"uint256\",\"name\":\"\",\"type\":\"uint256\"}],\"stateMutability\":\"view\",\"type\":\"function\"},{\"inputs\":[{\"internalType\":\"address\",\"name\":\"dst\",\"type\":\"address\"},{\"internalType\":\"uint256\",\"name\":\"wad\",\"type\":\"uint256\"}],\"name\":\"transfer\",\"outputs\":[{\"internalType\":\"bool\",\"name\":\"\",\"type\":\"bool\"}],\"stateMutability\":\"nonpayable\",\"type\":\"function\"},{\"inputs\":[{\"internalType\":\"address\",\"name\":\"src\",\"type\":\"address\"},{\"internalType\":\"address\",\"name\":\"dst\",\"type\":\"address\"},{\"internalType\":\"uint256\",\"name\":\"wad\",\"type\":\"uint256\"}],\"name\":\"transferFrom\",\"outputs\":[{\"internalType\":\"bool\",\"name\":\"\",\"type\":\"bool\"}],\"stateMutability\":\"nonpayable\",\"type\":\"function\"},{\"inputs\":[{\"internalType\":\"uint256\",\"name\":\"wad\",\"type\":\"uint256\"}],\"name\":\"withdraw\",\"outputs\":[],\"stateMutability\":\"nonpayable\",\"type\":\"function\"},{\"stateMutability\":\"payable\",\"type\":\"receive\"}]')\n",
    "contract_instance = w3.eth.contract(address=contract_address, abi=abi)"
   ]
  },
  {
   "cell_type": "code",
   "execution_count": 19,
   "metadata": {},
   "outputs": [
    {
     "data": {
      "text/plain": [
       "'Wrapped Ether'"
      ]
     },
     "execution_count": 19,
     "metadata": {},
     "output_type": "execute_result"
    }
   ],
   "source": [
    "contract_instance.functions.name().call()"
   ]
  },
  {
   "cell_type": "code",
   "execution_count": 20,
   "metadata": {},
   "outputs": [
    {
     "name": "stdout",
     "output_type": "stream",
     "text": [
      "[AttributeDict({'address': '0x98cec103AE046A31420508eaBe1494E71C3EE7a3', 'blockHash': HexBytes('0x11d2afdd3f7ab4e46cab1466d1fe3e81e9eed96fd63a802ca8aa9322e7f87bc4'), 'blockNumber': 5246172, 'data': HexBytes('0x000000000000000000000000000000000000000000000000016345785d8a0000'), 'logIndex': 90, 'removed': False, 'topics': [HexBytes('0xddf252ad1be2c89b69c2b068fc378daa952ba7f163c4a11628f55a4df523b3ef'), HexBytes('0x000000000000000000000000d04fa999c117344374ea4ded16016d0390b5baac'), HexBytes('0x000000000000000000000000a632319e5748fda8a0086ce3b66612e179fbf82a')], 'transactionHash': HexBytes('0xd8704b8e2aa1191ec8a29a6262b2eb7956d93129e5209f346ec9065cb6a8d05f'), 'transactionIndex': 72})]\n"
     ]
    }
   ],
   "source": [
    "receipt = w3.eth.get_transaction_receipt('0xd8704b8e2aa1191ec8a29a6262b2eb7956d93129e5209f346ec9065cb6a8d05f')\n",
    "print(receipt[\"logs\"])"
   ]
  },
  {
   "cell_type": "code",
   "execution_count": 21,
   "metadata": {},
   "outputs": [],
   "source": [
    "logs = contract_instance.events.Transfer().get_logs(fromBlock=0, toBlock='latest')"
   ]
  },
  {
   "cell_type": "code",
   "execution_count": 22,
   "metadata": {},
   "outputs": [
    {
     "data": {
      "text/plain": [
       "(AttributeDict({'args': AttributeDict({'src': '0xd04fa999c117344374EA4deD16016D0390b5BAaC',\n",
       "   'dst': '0xa632319e5748FdA8a0086Ce3b66612e179FbF82A',\n",
       "   'wad': 100000000000000000}),\n",
       "  'event': 'Transfer',\n",
       "  'logIndex': 90,\n",
       "  'transactionIndex': 72,\n",
       "  'transactionHash': HexBytes('0xd8704b8e2aa1191ec8a29a6262b2eb7956d93129e5209f346ec9065cb6a8d05f'),\n",
       "  'address': '0x98cec103AE046A31420508eaBe1494E71C3EE7a3',\n",
       "  'blockHash': HexBytes('0x11d2afdd3f7ab4e46cab1466d1fe3e81e9eed96fd63a802ca8aa9322e7f87bc4'),\n",
       "  'blockNumber': 5246172}),)"
      ]
     },
     "execution_count": 22,
     "metadata": {},
     "output_type": "execute_result"
    }
   ],
   "source": [
    "logs"
   ]
  },
  {
   "cell_type": "code",
   "execution_count": 26,
   "metadata": {},
   "outputs": [
    {
     "name": "stdout",
     "output_type": "stream",
     "text": [
      "1\n",
      "(AttributeDict({'args': AttributeDict({'src': '0x805E47a934FEd65696b53e689E5c9dF2E2BC91c7', 'guy': '0x7d7Ef8F1B4c526cbaa34B846F57D48Ee49141cBD', 'wad': 115792089237316195423570985008687907853269984665640564039457584007913129639935}), 'event': 'Approval', 'logIndex': 0, 'transactionIndex': 0, 'transactionHash': HexBytes('0x7c22cdc1f89172c8fc913ae49a10dcc4a14c63107d5cea35ea26488537e38e9f'), 'address': '0x98cec103AE046A31420508eaBe1494E71C3EE7a3', 'blockHash': HexBytes('0xbb4b16a0f6efd5b385d58db5331d5564fe038723850992d3ef9cd9694502090e'), 'blockNumber': 3086758}),)\n"
     ]
    }
   ],
   "source": [
    "# add a filter\n",
    "logs = contract_instance.events.Approval().get_logs(fromBlock=0, toBlock='latest', argument_filters={\"src\": \"0x805E47a934FEd65696b53e689E5c9dF2E2BC91c7\"})\n",
    "print(len(logs))\n",
    "print(logs)"
   ]
  },
  {
   "cell_type": "code",
   "execution_count": 36,
   "metadata": {},
   "outputs": [
    {
     "name": "stdout",
     "output_type": "stream",
     "text": [
      "<web3.contract.contract.ContractEvents object at 0x10d99b550>\n",
      "AttributeDict({'args': AttributeDict({'fromAsset': '0x0000000000000000000000000000000000000000', 'sender': '0x23d4cE595A94DAc8a5E1d2B96F412c09f3c2b2B0', 'toChainId': 2, 'toAddress': b'aleo1vrjmvs3xc7dtxpl0hl3esr5g83s3qsgypy9wy3znfkmx24fuxvgqnu4nkz', 'net': 190000000000000000, 'fee': 10000000000000000}), 'event': 'WrapperLock', 'logIndex': 266, 'transactionIndex': 132, 'transactionHash': HexBytes('0x99a905012b74065606694e05880a394a30056e0d7e917fef6a3ceb369887de8a'), 'address': '0x7d164F30f0b6a2ABAE55Adae9645a22268747D61', 'blockHash': HexBytes('0xdcc458aae9f3f0417bdea0943fee129fc9a3675a8401a060424075d8e77036b1'), 'blockNumber': 5259920})\n",
      "AttributeDict({'fromAsset': '0x0000000000000000000000000000000000000000', 'sender': '0x23d4cE595A94DAc8a5E1d2B96F412c09f3c2b2B0', 'toChainId': 2, 'toAddress': b'aleo1vrjmvs3xc7dtxpl0hl3esr5g83s3qsgypy9wy3znfkmx24fuxvgqnu4nkz', 'net': 190000000000000000, 'fee': 10000000000000000})\n",
      "AttributeDict({'args': AttributeDict({'fromAsset': '0x0000000000000000000000000000000000000000', 'sender': '0xbDE6361E195D9c4bB83f2c6479CE7055fAB8011e', 'toChainId': 2, 'toAddress': b'aleo1a6nxqywf4wqju9h9q0v9hcutzs7jjadjg8rs33jg3ljl2hz9gsrq3shvjf', 'net': 2000000000000000, 'fee': 10000000000000000}), 'event': 'WrapperLock', 'logIndex': 283, 'transactionIndex': 138, 'transactionHash': HexBytes('0xf9c0183a738995e95279cbd4a9ce8fae62b2add3e64e493c63cd6ca344799fde'), 'address': '0x7d164F30f0b6a2ABAE55Adae9645a22268747D61', 'blockHash': HexBytes('0xdcc458aae9f3f0417bdea0943fee129fc9a3675a8401a060424075d8e77036b1'), 'blockNumber': 5259920})\n",
      "AttributeDict({'fromAsset': '0x0000000000000000000000000000000000000000', 'sender': '0xbDE6361E195D9c4bB83f2c6479CE7055fAB8011e', 'toChainId': 2, 'toAddress': b'aleo1a6nxqywf4wqju9h9q0v9hcutzs7jjadjg8rs33jg3ljl2hz9gsrq3shvjf', 'net': 2000000000000000, 'fee': 10000000000000000})\n",
      "AttributeDict({'args': AttributeDict({'fromAsset': '0x0000000000000000000000000000000000000000', 'sender': '0xb3d466a70189aeABc69Ff93485d26721468d5edA', 'toChainId': 2, 'toAddress': b'aleo1gyv80l8a4q5hj6ph56d4xuuc55l839pqkjjv08fdw5ce7sp2cqgsly24eg', 'net': 40000000000000000, 'fee': 10000000000000000}), 'event': 'WrapperLock', 'logIndex': 137, 'transactionIndex': 69, 'transactionHash': HexBytes('0x4f99fac19b826a2c9eb00de5a577e1b745b2e7e36878d45aa5530ca4f673e74c'), 'address': '0x7d164F30f0b6a2ABAE55Adae9645a22268747D61', 'blockHash': HexBytes('0x6904b210363e94c51e99181d8518c8b80d859e765af56c94281b61c56e8b4f48'), 'blockNumber': 5259922})\n",
      "AttributeDict({'fromAsset': '0x0000000000000000000000000000000000000000', 'sender': '0xb3d466a70189aeABc69Ff93485d26721468d5edA', 'toChainId': 2, 'toAddress': b'aleo1gyv80l8a4q5hj6ph56d4xuuc55l839pqkjjv08fdw5ce7sp2cqgsly24eg', 'net': 40000000000000000, 'fee': 10000000000000000})\n"
     ]
    },
    {
     "ename": "KeyboardInterrupt",
     "evalue": "",
     "output_type": "error",
     "traceback": [
      "\u001b[0;31m---------------------------------------------------------------------------\u001b[0m",
      "\u001b[0;31mKeyboardInterrupt\u001b[0m                         Traceback (most recent call last)",
      "Cell \u001b[0;32mIn[36], line 21\u001b[0m\n\u001b[1;32m     18\u001b[0m         time\u001b[38;5;241m.\u001b[39msleep(poll_interval)\n\u001b[1;32m     20\u001b[0m block_filter \u001b[38;5;241m=\u001b[39m event_filter\n\u001b[0;32m---> 21\u001b[0m \u001b[43mlog_loop\u001b[49m\u001b[43m(\u001b[49m\u001b[43mblock_filter\u001b[49m\u001b[43m,\u001b[49m\u001b[43m \u001b[49m\u001b[38;5;241;43m2\u001b[39;49m\u001b[43m)\u001b[49m\n",
      "Cell \u001b[0;32mIn[36], line 18\u001b[0m, in \u001b[0;36mlog_loop\u001b[0;34m(event_filter, poll_interval)\u001b[0m\n\u001b[1;32m     16\u001b[0m \u001b[38;5;28;01mfor\u001b[39;00m event \u001b[38;5;129;01min\u001b[39;00m event_filter\u001b[38;5;241m.\u001b[39mget_new_entries():\n\u001b[1;32m     17\u001b[0m     handle_event(event)\n\u001b[0;32m---> 18\u001b[0m time\u001b[38;5;241m.\u001b[39msleep(poll_interval)\n",
      "\u001b[0;31mKeyboardInterrupt\u001b[0m: "
     ]
    }
   ],
   "source": [
    "# Listened contract \n",
    "contract_address = \"0x7d164F30f0b6a2ABAE55Adae9645a22268747D61\"\n",
    "contract_abi = json.loads('[{\"inputs\":[{\"internalType\":\"address\",\"name\":\"_owner\",\"type\":\"address\"},{\"internalType\":\"address\",\"name\":\"_collector\",\"type\":\"address\"},{\"internalType\":\"uint256\",\"name\":\"_chainId\",\"type\":\"uint256\"}],\"stateMutability\":\"nonpayable\",\"type\":\"constructor\"},{\"anonymous\":false,\"inputs\":[{\"indexed\":true,\"internalType\":\"address\",\"name\":\"previousOwner\",\"type\":\"address\"},{\"indexed\":true,\"internalType\":\"address\",\"name\":\"newOwner\",\"type\":\"address\"}],\"name\":\"OwnershipTransferred\",\"type\":\"event\"},{\"anonymous\":false,\"inputs\":[{\"indexed\":false,\"internalType\":\"address\",\"name\":\"account\",\"type\":\"address\"}],\"name\":\"Paused\",\"type\":\"event\"},{\"anonymous\":false,\"inputs\":[{\"indexed\":false,\"internalType\":\"address\",\"name\":\"account\",\"type\":\"address\"}],\"name\":\"Unpaused\",\"type\":\"event\"},{\"anonymous\":false,\"inputs\":[{\"indexed\":true,\"internalType\":\"address\",\"name\":\"fromAsset\",\"type\":\"address\"},{\"indexed\":true,\"internalType\":\"address\",\"name\":\"sender\",\"type\":\"address\"},{\"indexed\":false,\"internalType\":\"uint64\",\"name\":\"toChainId\",\"type\":\"uint64\"},{\"indexed\":false,\"internalType\":\"bytes\",\"name\":\"toAddress\",\"type\":\"bytes\"},{\"indexed\":false,\"internalType\":\"uint256\",\"name\":\"net\",\"type\":\"uint256\"},{\"indexed\":false,\"internalType\":\"uint256\",\"name\":\"fee\",\"type\":\"uint256\"}],\"name\":\"WrapperLock\",\"type\":\"event\"},{\"anonymous\":false,\"inputs\":[{\"indexed\":true,\"internalType\":\"address\",\"name\":\"fromAsset\",\"type\":\"address\"},{\"indexed\":true,\"internalType\":\"bytes\",\"name\":\"txHash\",\"type\":\"bytes\"},{\"indexed\":true,\"internalType\":\"address\",\"name\":\"sender\",\"type\":\"address\"},{\"indexed\":false,\"internalType\":\"uint256\",\"name\":\"efee\",\"type\":\"uint256\"}],\"name\":\"WrapperSpeedUp\",\"type\":\"event\"},{\"inputs\":[],\"name\":\"chainId\",\"outputs\":[{\"internalType\":\"uint256\",\"name\":\"\",\"type\":\"uint256\"}],\"stateMutability\":\"view\",\"type\":\"function\"},{\"inputs\":[{\"internalType\":\"address\",\"name\":\"token\",\"type\":\"address\"}],\"name\":\"extractFee\",\"outputs\":[],\"stateMutability\":\"nonpayable\",\"type\":\"function\"},{\"inputs\":[],\"name\":\"feeCollector\",\"outputs\":[{\"internalType\":\"address\",\"name\":\"\",\"type\":\"address\"}],\"stateMutability\":\"view\",\"type\":\"function\"},{\"inputs\":[{\"internalType\":\"address\",\"name\":\"fromAsset\",\"type\":\"address\"},{\"internalType\":\"uint16\",\"name\":\"toChainId\",\"type\":\"uint16\"},{\"internalType\":\"bytes\",\"name\":\"toAddress\",\"type\":\"bytes\"},{\"internalType\":\"uint256\",\"name\":\"amount\",\"type\":\"uint256\"},{\"internalType\":\"uint256\",\"name\":\"fee\",\"type\":\"uint256\"}],\"name\":\"lock\",\"outputs\":[],\"stateMutability\":\"payable\",\"type\":\"function\"},{\"inputs\":[],\"name\":\"lockProxy\",\"outputs\":[{\"internalType\":\"contract ILockProxy\",\"name\":\"\",\"type\":\"address\"}],\"stateMutability\":\"view\",\"type\":\"function\"},{\"inputs\":[],\"name\":\"owner\",\"outputs\":[{\"internalType\":\"address\",\"name\":\"\",\"type\":\"address\"}],\"stateMutability\":\"view\",\"type\":\"function\"},{\"inputs\":[],\"name\":\"pause\",\"outputs\":[],\"stateMutability\":\"nonpayable\",\"type\":\"function\"},{\"inputs\":[],\"name\":\"paused\",\"outputs\":[{\"internalType\":\"bool\",\"name\":\"\",\"type\":\"bool\"}],\"stateMutability\":\"view\",\"type\":\"function\"},{\"inputs\":[],\"name\":\"renounceOwnership\",\"outputs\":[],\"stateMutability\":\"nonpayable\",\"type\":\"function\"},{\"inputs\":[{\"internalType\":\"address\",\"name\":\"_collector\",\"type\":\"address\"}],\"name\":\"setFeeCollector\",\"outputs\":[],\"stateMutability\":\"nonpayable\",\"type\":\"function\"},{\"inputs\":[{\"internalType\":\"address\",\"name\":\"_lockProxy\",\"type\":\"address\"}],\"name\":\"setLockProxy\",\"outputs\":[],\"stateMutability\":\"nonpayable\",\"type\":\"function\"},{\"inputs\":[{\"internalType\":\"address\",\"name\":\"fromAsset\",\"type\":\"address\"},{\"internalType\":\"bytes\",\"name\":\"txHash\",\"type\":\"bytes\"},{\"internalType\":\"uint256\",\"name\":\"fee\",\"type\":\"uint256\"}],\"name\":\"speedUp\",\"outputs\":[],\"stateMutability\":\"payable\",\"type\":\"function\"},{\"inputs\":[{\"internalType\":\"address\",\"name\":\"newOwner\",\"type\":\"address\"}],\"name\":\"transferOwnership\",\"outputs\":[],\"stateMutability\":\"nonpayable\",\"type\":\"function\"},{\"inputs\":[],\"name\":\"unpause\",\"outputs\":[],\"stateMutability\":\"nonpayable\",\"type\":\"function\"}]')\n",
    "contract = w3.eth.contract(address=contract_address, abi=contract_abi)\n",
    "event_filter = contract.events.WrapperLock.create_filter(fromBlock='latest')\n",
    "# Listen for events\n",
    "def handle_event(event):\n",
    "    print(event)\n",
    "    print(event['args'])\n",
    "\n",
    "def log_loop(event_filter, poll_interval):\n",
    "    while True:\n",
    "        for event in event_filter.get_new_entries():\n",
    "            handle_event(event)\n",
    "        time.sleep(poll_interval)\n",
    "\n",
    "block_filter = event_filter\n",
    "log_loop(block_filter, 2)"
   ]
  }
 ],
 "metadata": {
  "kernelspec": {
   "display_name": "base",
   "language": "python",
   "name": "python3"
  },
  "language_info": {
   "codemirror_mode": {
    "name": "ipython",
    "version": 3
   },
   "file_extension": ".py",
   "mimetype": "text/x-python",
   "name": "python",
   "nbconvert_exporter": "python",
   "pygments_lexer": "ipython3",
   "version": "3.11.5"
  }
 },
 "nbformat": 4,
 "nbformat_minor": 2
}
