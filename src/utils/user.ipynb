{
 "cells": [
  {
   "cell_type": "markdown",
   "metadata": {},
   "source": [
    "# User make requests to coordinator\n",
    "\n",
    "User should specify the model id, input for the model, callbackContractAddress and callbackContractFunction.\n",
    "\n",
    "Or you can also make a request [here](https://sepolia.etherscan.io/address/0x1B42d9Ba11180Db82C5fd902a40D769987fF1c3B#writeContract)"
   ]
  },
  {
   "cell_type": "code",
   "execution_count": null,
   "metadata": {},
   "outputs": [],
   "source": [
    "from web3 import Web3, HTTPProvider\n",
    "import json\n",
    "import os"
   ]
  },
  {
   "cell_type": "code",
   "execution_count": null,
   "metadata": {},
   "outputs": [],
   "source": [
    "w3 = Web3(HTTPProvider(os.environ.get(\"PROVIDER_URI_SEPOLIA\")))\n",
    "my_address = os.environ.get(\"ADDRESS\")\n",
    "private_key = os.environ.get(\"PRIVATE_KEY\")\n",
    "address = Web3.to_checksum_address(my_address)"
   ]
  },
  {
   "cell_type": "code",
   "execution_count": null,
   "metadata": {},
   "outputs": [],
   "source": [
    "collector_contract_address = \"0x7f8A0D82d1f14D0976bE8AaAb0C885e3Be154c43\"\n",
    "collector_contract_abi = json.loads('[{\"inputs\":[{\"internalType\":\"address\",\"name\":\"_address\",\"type\":\"address\"}],\"stateMutability\":\"nonpayable\",\"type\":\"constructor\"},{\"inputs\":[{\"internalType\":\"address\",\"name\":\"owner\",\"type\":\"address\"}],\"name\":\"OwnableInvalidOwner\",\"type\":\"error\"},{\"inputs\":[{\"internalType\":\"address\",\"name\":\"account\",\"type\":\"address\"}],\"name\":\"OwnableUnauthorizedAccount\",\"type\":\"error\"},{\"anonymous\":false,\"inputs\":[{\"indexed\":true,\"internalType\":\"address\",\"name\":\"previousOwner\",\"type\":\"address\"},{\"indexed\":true,\"internalType\":\"address\",\"name\":\"newOwner\",\"type\":\"address\"}],\"name\":\"OwnershipTransferred\",\"type\":\"event\"},{\"anonymous\":false,\"inputs\":[{\"indexed\":false,\"internalType\":\"uint256\",\"name\":\"requestId\",\"type\":\"uint256\"},{\"indexed\":false,\"internalType\":\"string\",\"name\":\"output\",\"type\":\"string\"}],\"name\":\"ResponseEvent\",\"type\":\"event\"},{\"inputs\":[],\"name\":\"coordinator\",\"outputs\":[{\"internalType\":\"address\",\"name\":\"\",\"type\":\"address\"}],\"stateMutability\":\"view\",\"type\":\"function\"},{\"inputs\":[{\"internalType\":\"uint256\",\"name\":\"_id\",\"type\":\"uint256\"}],\"name\":\"getOutput\",\"outputs\":[{\"internalType\":\"string\",\"name\":\"\",\"type\":\"string\"}],\"stateMutability\":\"view\",\"type\":\"function\"},{\"inputs\":[{\"internalType\":\"uint256\",\"name\":\"\",\"type\":\"uint256\"}],\"name\":\"outputs\",\"outputs\":[{\"internalType\":\"string\",\"name\":\"\",\"type\":\"string\"}],\"stateMutability\":\"view\",\"type\":\"function\"},{\"inputs\":[],\"name\":\"owner\",\"outputs\":[{\"internalType\":\"address\",\"name\":\"\",\"type\":\"address\"}],\"stateMutability\":\"view\",\"type\":\"function\"},{\"inputs\":[],\"name\":\"renounceOwnership\",\"outputs\":[],\"stateMutability\":\"nonpayable\",\"type\":\"function\"},{\"inputs\":[{\"internalType\":\"address\",\"name\":\"_coordinator\",\"type\":\"address\"}],\"name\":\"setCoordinator\",\"outputs\":[],\"stateMutability\":\"nonpayable\",\"type\":\"function\"},{\"inputs\":[{\"internalType\":\"uint256\",\"name\":\"_id\",\"type\":\"uint256\"},{\"internalType\":\"string\",\"name\":\"_output\",\"type\":\"string\"}],\"name\":\"setOutput\",\"outputs\":[],\"stateMutability\":\"nonpayable\",\"type\":\"function\"},{\"inputs\":[{\"internalType\":\"address\",\"name\":\"newOwner\",\"type\":\"address\"}],\"name\":\"transferOwnership\",\"outputs\":[],\"stateMutability\":\"nonpayable\",\"type\":\"function\"}]')\n",
    "collector_contract = w3.eth.contract(address=collector_contract_address, abi=collector_contract_abi)\n",
    "\n",
    "coordinator_contract_address = \"0x1B42d9Ba11180Db82C5fd902a40D769987fF1c3B\"\n",
    "coordinator_contract_abi = json.loads('[{\"inputs\": [],\"stateMutability\": \"nonpayable\",\"type\": \"constructor\"},{\"anonymous\": false,\"inputs\": [{\"indexed\": false,\"internalType\": \"uint256\",\"name\": \"requestId\",\"type\": \"uint256\"},{\"indexed\": false,\"internalType\": \"address\",\"name\": \"user\",\"type\": \"address\"},{\"indexed\": false,\"internalType\": \"string\",\"name\": \"modelId\",\"type\": \"string\"},{\"indexed\": false,\"internalType\": \"string\",\"name\": \"input\",\"type\": \"string\"},{\"indexed\": false,\"internalType\": \"address\",\"name\": \"callbackContract\",\"type\": \"address\"},{\"indexed\": false,\"internalType\": \"string\",\"name\": \"callbackFunction\",\"type\": \"string\"}],\"name\": \"RequestEvent\",\"type\": \"event\"},{\"anonymous\": false,\"inputs\": [{\"indexed\": false,\"internalType\": \"uint256\",\"name\": \"requestId\",\"type\": \"uint256\"},{\"indexed\": false,\"internalType\": \"string\",\"name\": \"output\",\"type\": \"string\"}],\"name\": \"ResponseEvent\",\"type\": \"event\"},{\"inputs\": [{\"internalType\": \"uint256\",\"name\": \"_id\",\"type\": \"uint256\"},{\"internalType\": \"string\",\"name\": \"_output\",\"type\": \"string\"}],\"name\": \"fulfillRequest\",\"outputs\": [],\"stateMutability\": \"nonpayable\",\"type\": \"function\"},{\"inputs\": [{\"internalType\": \"uint256\",\"name\": \"_id\",\"type\": \"uint256\"}],\"name\": \"getOutput\",\"outputs\": [{\"internalType\": \"string\",\"name\": \"\",\"type\": \"string\"}],\"stateMutability\": \"view\",\"type\": \"function\"},{\"inputs\": [{\"internalType\": \"uint256\",\"name\": \"_id\",\"type\": \"uint256\"}],\"name\": \"getRequest\",\"outputs\": [{\"internalType\": \"address\",\"name\": \"\",\"type\": \"address\"},{\"internalType\": \"string\",\"name\": \"\",\"type\": \"string\"},{\"internalType\": \"string\",\"name\": \"\",\"type\": \"string\"},{\"internalType\": \"address\",\"name\": \"\",\"type\": \"address\"},{\"internalType\": \"string\",\"name\": \"\",\"type\": \"string\"},{\"internalType\": \"bool\",\"name\": \"\",\"type\": \"bool\"}],\"stateMutability\": \"view\",\"type\": \"function\"},{\"inputs\": [{\"internalType\": \"string\",\"name\": \"_modelId\",\"type\": \"string\"},{\"internalType\": \"string\",\"name\": \"_input\",\"type\": \"string\"},{\"internalType\": \"address\",\"name\": \"_callbackContract\",\"type\": \"address\"},{\"internalType\": \"string\",\"name\": \"_callbackFunction\",\"type\": \"string\"}],\"name\": \"makeRequest\",\"outputs\": [],\"stateMutability\": \"nonpayable\",\"type\": \"function\"},{\"inputs\": [{\"internalType\": \"uint256\",\"name\": \"\",\"type\": \"uint256\"}],\"name\": \"outputs\",\"outputs\": [{\"internalType\": \"string\",\"name\": \"\",\"type\": \"string\"}],\"stateMutability\": \"view\",\"type\": \"function\"},{\"inputs\": [{\"internalType\": \"uint256\",\"name\": \"\",\"type\": \"uint256\"}],\"name\": \"requestStatus\",\"outputs\": [{\"internalType\": \"bool\",\"name\": \"\",\"type\": \"bool\"}],\"stateMutability\": \"view\",\"type\": \"function\"},{\"inputs\": [{\"internalType\": \"uint256\",\"name\": \"\",\"type\": \"uint256\"}],\"name\": \"requests\",\"outputs\": [{\"internalType\": \"address\",\"name\": \"user\",\"type\": \"address\"},{\"internalType\": \"string\",\"name\": \"modelId\",\"type\": \"string\"},{\"internalType\": \"string\",\"name\": \"input\",\"type\": \"string\"},{\"internalType\": \"address\",\"name\": \"callbackContract\",\"type\": \"address\"},{\"internalType\": \"string\",\"name\": \"callbackFunction\",\"type\": \"string\"}],\"stateMutability\": \"view\",\"type\": \"function\"}]')\n",
    "coordinator_contract = w3.eth.contract(address=coordinator_contract_address, abi=coordinator_contract_abi)"
   ]
  },
  {
   "cell_type": "code",
   "execution_count": null,
   "metadata": {},
   "outputs": [],
   "source": [
    "from web3.gas_strategies.time_based import medium_gas_price_strategy\n",
    "\n",
    "# Transaction mined within 5 minutes.\n",
    "w3.eth.set_gas_price_strategy(medium_gas_price_strategy)\n",
    "tx_hash = coordinator_contract.functions.makeRequest(\"1234\", \"TestInput1234\", collector_contract_address, \"setOutput(uint256,string)\").build_transaction({'from': address,\"nonce\": w3.eth.get_transaction_count(address),\"value\": 0,\"gas\": 2000000,\"gasPrice\": w3.eth.generate_gas_price()})\n",
    "signed_tx = w3.eth.account.sign_transaction(tx_hash, private_key=private_key)\n",
    "tx_hash = w3.eth.send_raw_transaction(signed_tx.rawTransaction)\n",
    "receipt = w3.eth.wait_for_transaction_receipt(tx_hash)"
   ]
  }
 ],
 "metadata": {
  "kernelspec": {
   "display_name": "base",
   "language": "python",
   "name": "python3"
  },
  "language_info": {
   "codemirror_mode": {
    "name": "ipython",
    "version": 3
   },
   "file_extension": ".py",
   "mimetype": "text/x-python",
   "name": "python",
   "nbconvert_exporter": "python",
   "pygments_lexer": "ipython3",
   "version": "3.11.5"
  }
 },
 "nbformat": 4,
 "nbformat_minor": 2
}
